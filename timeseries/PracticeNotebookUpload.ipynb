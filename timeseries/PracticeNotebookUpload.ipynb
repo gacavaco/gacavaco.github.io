{
 "cells": [
  {
   "cell_type": "markdown",
   "id": "e9663d65",
   "metadata": {},
   "source": [
    "# Practice Notebook\n",
    "\n",
    "### This notebook will be the first file uploaded to my GitHub website!"
   ]
  },
  {
   "cell_type": "code",
   "execution_count": null,
   "id": "a33e7cb3",
   "metadata": {},
   "outputs": [],
   "source": [
    "import string\n",
    "fhand = open('james_stephens.md')\n",
    "counts = dict()\n",
    "for line in fhand:\n",
    "    line = line.translate(str.maketrans('','',string.punctuation))\n",
    "    line = line.lower()\n",
    "    words = line.split()\n",
    "    for word in words:\n",
    "        if word not in counts:\n",
    "            counts[word] = 1\n",
    "        else:\n",
    "            counts[word] += 1\n",
    "\n",
    "lst = list()\n",
    "for key,val in list(counts.items()):\n",
    "    lst.append((val,key))\n",
    "lst.sort(reverse=True)\n",
    "for key,val in lst[:10]:\n",
    "    print(key,val)"
   ]
  }
 ],
 "metadata": {
  "kernelspec": {
   "display_name": "Python 3 (ipykernel)",
   "language": "python",
   "name": "python3"
  },
  "language_info": {
   "codemirror_mode": {
    "name": "ipython",
    "version": 3
   },
   "file_extension": ".py",
   "mimetype": "text/x-python",
   "name": "python",
   "nbconvert_exporter": "python",
   "pygments_lexer": "ipython3",
   "version": "3.9.7"
  }
 },
 "nbformat": 4,
 "nbformat_minor": 5
}
